{
 "cells": [
  {
   "cell_type": "code",
   "execution_count": 5,
   "metadata": {},
   "outputs": [
    {
     "name": "stdout",
     "output_type": "stream",
     "text": [
      "       Nom  Mathématiques  Physique  Chimie\n",
      "0    Alice             85        95      78\n",
      "1      Bob             92        85      83\n",
      "2  Charlie             78        80      85\n",
      "3    David             90        92      87\n",
      "4      Eva             88        89      90\n"
     ]
    }
   ],
   "source": [
    "import pandas as pd\n",
    "\n",
    "# Création d'un dataset sous forme de dictionnaire\n",
    "data = {\n",
    "    'Nom': ['Alice', 'Bob', 'Charlie', 'David', 'Eva'],\n",
    "    'Mathématiques': [85, 92, 78, 90, 88],\n",
    "    'Physique': [95, 85, 80, 92, 89],\n",
    "    'Chimie': [78, 83, 85, 87, 90]\n",
    "}\n",
    "\n",
    "# Conversion du dictionnaire en DataFrame\n",
    "df = pd.DataFrame(data)\n",
    "\n",
    "# Affichage du DataFrame\n",
    "print(df)\n",
    "\n",
    "# Sauvegarde du DataFrame sous forme de fichier CSV\n",
    "df.to_csv('etudiants_scores.csv', index=False)\n"
   ]
  },
  {
   "cell_type": "code",
   "execution_count": 6,
   "metadata": {},
   "outputs": [],
   "source": [
    "# Chargement du dataset à partir du fichier CSV\n",
    "df = pd.read_csv('etudiants_scores.csv')"
   ]
  },
  {
   "cell_type": "code",
   "execution_count": 7,
   "metadata": {},
   "outputs": [
    {
     "name": "stdout",
     "output_type": "stream",
     "text": [
      "       Nom  Mathématiques  Physique  Chimie\n",
      "0    Alice             85        95      78\n",
      "1      Bob             92        85      83\n",
      "2  Charlie             78        80      85\n",
      "3    David             90        92      87\n",
      "4      Eva             88        89      90\n"
     ]
    }
   ],
   "source": [
    "# Affichage du DataFrame\n",
    "print(df)\n"
   ]
  },
  {
   "cell_type": "code",
   "execution_count": 8,
   "metadata": {},
   "outputs": [],
   "source": [
    "# Calcul de la moyenne des scores pour chaque étudiant\n",
    "df['Moyenne'] = df[['Mathématiques', 'Physique', 'Chimie']].mean(axis=1)"
   ]
  },
  {
   "cell_type": "code",
   "execution_count": 9,
   "metadata": {},
   "outputs": [
    {
     "name": "stdout",
     "output_type": "stream",
     "text": [
      "       Nom    Moyenne\n",
      "0    Alice  86.000000\n",
      "1      Bob  86.666667\n",
      "2  Charlie  81.000000\n",
      "3    David  89.666667\n",
      "4      Eva  89.000000\n"
     ]
    }
   ],
   "source": [
    "# Affichage des moyennes\n",
    "print(df[['Nom', 'Moyenne']])"
   ]
  },
  {
   "cell_type": "code",
   "execution_count": 10,
   "metadata": {},
   "outputs": [
    {
     "name": "stdout",
     "output_type": "stream",
     "text": [
      "Mathématiques    86.6\n",
      "Physique         88.2\n",
      "Chimie           84.6\n",
      "dtype: float64\n"
     ]
    }
   ],
   "source": [
    "# Calcul de la moyenne des scores par matière\n",
    "moyenne_matiere = df[['Mathématiques', 'Physique', 'Chimie']].mean()\n",
    "print(moyenne_matiere)\n"
   ]
  },
  {
   "cell_type": "code",
   "execution_count": 11,
   "metadata": {},
   "outputs": [
    {
     "name": "stdout",
     "output_type": "stream",
     "text": [
      "       Mathématiques   Physique     Chimie    Moyenne\n",
      "count       5.000000   5.000000   5.000000   5.000000\n",
      "mean       86.600000  88.200000  84.600000  86.466667\n",
      "std         5.458938   5.890671   4.505552   3.420526\n",
      "min        78.000000  80.000000  78.000000  81.000000\n",
      "25%        85.000000  85.000000  83.000000  86.000000\n",
      "50%        88.000000  89.000000  85.000000  86.666667\n",
      "75%        90.000000  92.000000  87.000000  89.000000\n",
      "max        92.000000  95.000000  90.000000  89.666667\n"
     ]
    }
   ],
   "source": [
    "# Affichage des statistiques descriptives du dataset\n",
    "print(df.describe())\n"
   ]
  },
  {
   "cell_type": "code",
   "execution_count": null,
   "metadata": {},
   "outputs": [],
   "source": []
  }
 ],
 "metadata": {
  "kernelspec": {
   "display_name": "base",
   "language": "python",
   "name": "python3"
  },
  "language_info": {
   "codemirror_mode": {
    "name": "ipython",
    "version": 3
   },
   "file_extension": ".py",
   "mimetype": "text/x-python",
   "name": "python",
   "nbconvert_exporter": "python",
   "pygments_lexer": "ipython3",
   "version": "3.8.8"
  }
 },
 "nbformat": 4,
 "nbformat_minor": 2
}
