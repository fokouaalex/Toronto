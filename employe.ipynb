{
 "cells": [
  {
   "cell_type": "code",
   "execution_count": 1,
   "metadata": {},
   "outputs": [
    {
     "name": "stdout",
     "output_type": "stream",
     "text": [
      "     Nom  Age Département  Salaire Date_d_Embauche\n",
      "0   John   28          IT    50000      2015-08-01\n",
      "1   Anna   34          RH    60000      2016-07-15\n",
      "2  Peter   45     Finance    80000      2010-03-25\n",
      "3  Linda   23   Marketing    45000      2018-11-12\n",
      "4  James   37  Logistique    55000      2012-05-30\n"
     ]
    }
   ],
   "source": [
    "import pandas as pd\n",
    "\n",
    "# Création d'un dataset des employés\n",
    "data = {\n",
    "    'Nom': ['John', 'Anna', 'Peter', 'Linda', 'James'],\n",
    "    'Age': [28, 34, 45, 23, 37],\n",
    "    'Département': ['IT', 'RH', 'Finance', 'Marketing', 'Logistique'],\n",
    "    'Salaire': [50000, 60000, 80000, 45000, 55000],\n",
    "    'Date_d_Embauche': ['2015-08-01', '2016-07-15', '2010-03-25', '2018-11-12', '2012-05-30']\n",
    "}\n",
    "\n",
    "# Conversion du dictionnaire en DataFrame\n",
    "df = pd.DataFrame(data)\n",
    "\n",
    "# Affichage du DataFrame\n",
    "print(df)\n",
    "\n",
    "# Sauvegarde du DataFrame sous forme de fichier CSV\n",
    "df.to_csv('employes.csv', index=False)\n"
   ]
  },
  {
   "cell_type": "code",
   "execution_count": 2,
   "metadata": {},
   "outputs": [
    {
     "name": "stdout",
     "output_type": "stream",
     "text": [
      "     Nom  Age Département  Salaire Date_d_Embauche\n",
      "0   John   28          IT    50000      2015-08-01\n",
      "1   Anna   34          RH    60000      2016-07-15\n",
      "2  Peter   45     Finance    80000      2010-03-25\n",
      "3  Linda   23   Marketing    45000      2018-11-12\n",
      "4  James   37  Logistique    55000      2012-05-30\n",
      "     Nom  Age Département  Salaire Date_d_Embauche  Ancienneté\n",
      "0   John   28          IT    50000      2015-08-01           8\n",
      "1   Anna   34          RH    60000      2016-07-15           7\n",
      "2  Peter   45     Finance    80000      2010-03-25          14\n",
      "3  Linda   23   Marketing    45000      2018-11-12           5\n",
      "4  James   37  Logistique    55000      2012-05-30          12\n",
      "Département\n",
      "Finance       80000\n",
      "IT            50000\n",
      "Logistique    55000\n",
      "Marketing     45000\n",
      "RH            60000\n",
      "Name: Salaire, dtype: int64\n"
     ]
    }
   ],
   "source": [
    "import pandas as pd\n",
    "\n",
    "# Chargement du dataset à partir du fichier CSV\n",
    "df = pd.read_csv('employes.csv')\n",
    "\n",
    "# Affichage du DataFrame\n",
    "print(df)\n",
    "\n",
    "# Calcul de l'ancienneté pour chaque employé\n",
    "df['Date_d_Embauche'] = pd.to_datetime(df['Date_d_Embauche'])\n",
    "df['Ancienneté'] = (pd.to_datetime('today') - df['Date_d_Embauche']).dt.days // 365\n",
    "\n",
    "# Affichage du DataFrame avec l'ancienneté\n",
    "print(df)\n",
    "\n",
    "# Calcul du salaire moyen par département\n",
    "salaire_moyen_departement = df.groupby('Département')['Salaire'].mean()\n",
    "print(salaire_moyen_departement)\n"
   ]
  }
 ],
 "metadata": {
  "kernelspec": {
   "display_name": "base",
   "language": "python",
   "name": "python3"
  },
  "language_info": {
   "codemirror_mode": {
    "name": "ipython",
    "version": 3
   },
   "file_extension": ".py",
   "mimetype": "text/x-python",
   "name": "python",
   "nbconvert_exporter": "python",
   "pygments_lexer": "ipython3",
   "version": "3.8.8"
  }
 },
 "nbformat": 4,
 "nbformat_minor": 2
}
