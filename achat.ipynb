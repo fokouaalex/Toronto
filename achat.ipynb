{
 "cells": [
  {
   "cell_type": "code",
   "execution_count": 2,
   "metadata": {},
   "outputs": [
    {
     "name": "stdout",
     "output_type": "stream",
     "text": [
      "     Produit   Prix  Quantité_Vendue Date_de_Vente\n",
      "0     Laptop  10000               50    2023-01-01\n",
      "1  Téléphone  50000              150    2023-01-02\n",
      "2   Tablette  30000              100    2023-01-03\n",
      "3   Moniteur  15000               75    2023-01-04\n",
      "4    Clavier   5000              200    2023-01-05\n"
     ]
    }
   ],
   "source": [
    "import pandas as pd\n",
    "\n",
    "# Création d'un dataset de ventes de produits\n",
    "data = {\n",
    "    'Produit': ['Laptop', 'Téléphone', 'Tablette', 'Moniteur', 'Clavier'],\n",
    "    'Prix': [10000, 50000, 30000, 15000, 5000],\n",
    "    'Quantité_Vendue': [50, 150, 100, 75, 200],\n",
    "    'Date_de_Vente': ['2023-01-01', '2023-01-02', '2023-01-03', '2023-01-04', '2023-01-05']\n",
    "}\n",
    "\n",
    "# Conversion du dictionnaire en DataFrame\n",
    "df = pd.DataFrame(data)\n",
    "\n",
    "# Affichage du DataFrame\n",
    "print(df)\n",
    "\n",
    "# Sauvegarde du DataFrame sous forme de fichier CSV\n",
    "df.to_csv('ventes_produits.csv', index=False)\n"
   ]
  },
  {
   "cell_type": "code",
   "execution_count": 4,
   "metadata": {},
   "outputs": [
    {
     "name": "stdout",
     "output_type": "stream",
     "text": [
      "     Produit   Prix  Quantité_Vendue Date_de_Vente\n",
      "0     Laptop  10000               50    2023-01-01\n",
      "1  Téléphone  50000              150    2023-01-02\n",
      "2   Tablette  30000              100    2023-01-03\n",
      "3   Moniteur  15000               75    2023-01-04\n",
      "4    Clavier   5000              200    2023-01-05\n",
      "     Produit   Prix  Quantité_Vendue Date_de_Vente  Chiffre_d_Affaires\n",
      "0     Laptop  10000               50    2023-01-01              500000\n",
      "1  Téléphone  50000              150    2023-01-02             7500000\n",
      "2   Tablette  30000              100    2023-01-03             3000000\n",
      "3   Moniteur  15000               75    2023-01-04             1125000\n",
      "4    Clavier   5000              200    2023-01-05             1000000\n",
      "Chiffre d'affaires total : 13125000 $\n"
     ]
    }
   ],
   "source": [
    "import pandas as pd\n",
    "\n",
    "# Chargement du dataset à partir du fichier CSV\n",
    "df = pd.read_csv('ventes_produits.csv')\n",
    "\n",
    "# Affichage du DataFrame\n",
    "print(df)\n",
    "\n",
    "# Calcul du chiffre d'affaires pour chaque produit\n",
    "df['Chiffre_d_Affaires'] = df['Prix'] * df['Quantité_Vendue']\n",
    "\n",
    "# Affichage du DataFrame avec le chiffre d'affaires\n",
    "print(df)\n",
    "\n",
    "# Calcul du chiffre d'affaires total\n",
    "chiffre_affaires_total = df['Chiffre_d_Affaires'].sum()\n",
    "print(f\"Chiffre d'affaires total : {chiffre_affaires_total} $\")\n"
   ]
  },
  {
   "cell_type": "code",
   "execution_count": null,
   "metadata": {},
   "outputs": [],
   "source": []
  },
  {
   "cell_type": "code",
   "execution_count": null,
   "metadata": {},
   "outputs": [],
   "source": []
  },
  {
   "cell_type": "code",
   "execution_count": null,
   "metadata": {},
   "outputs": [],
   "source": []
  },
  {
   "cell_type": "code",
   "execution_count": null,
   "metadata": {},
   "outputs": [],
   "source": []
  },
  {
   "cell_type": "code",
   "execution_count": null,
   "metadata": {},
   "outputs": [],
   "source": []
  },
  {
   "cell_type": "code",
   "execution_count": null,
   "metadata": {},
   "outputs": [],
   "source": []
  },
  {
   "cell_type": "code",
   "execution_count": null,
   "metadata": {},
   "outputs": [],
   "source": []
  },
  {
   "cell_type": "code",
   "execution_count": null,
   "metadata": {},
   "outputs": [],
   "source": []
  },
  {
   "cell_type": "code",
   "execution_count": null,
   "metadata": {},
   "outputs": [],
   "source": []
  }
 ],
 "metadata": {
  "kernelspec": {
   "display_name": "base",
   "language": "python",
   "name": "python3"
  },
  "language_info": {
   "codemirror_mode": {
    "name": "ipython",
    "version": 3
   },
   "file_extension": ".py",
   "mimetype": "text/x-python",
   "name": "python",
   "nbconvert_exporter": "python",
   "pygments_lexer": "ipython3",
   "version": "3.8.8"
  }
 },
 "nbformat": 4,
 "nbformat_minor": 2
}
